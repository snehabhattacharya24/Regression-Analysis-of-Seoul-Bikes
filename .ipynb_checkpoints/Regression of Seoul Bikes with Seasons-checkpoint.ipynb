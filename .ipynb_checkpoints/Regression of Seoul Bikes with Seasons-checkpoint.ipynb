{
 "cells": [
  {
   "cell_type": "code",
   "execution_count": 7,
   "id": "ca3c2666",
   "metadata": {},
   "outputs": [],
   "source": [
    "import pandas as pd"
   ]
  },
  {
   "cell_type": "code",
   "execution_count": 8,
   "id": "e6c8ac07",
   "metadata": {},
   "outputs": [],
   "source": [
    "import pandas as pd\n",
    "import numpy as np\n",
    "import seaborn as sns\n",
    "import matplotlib.pyplot as plt\n",
    "import warnings \n",
    "warnings.simplefilter('ignore')"
   ]
  },
  {
   "cell_type": "code",
   "execution_count": 9,
   "id": "a75b6a8a",
   "metadata": {},
   "outputs": [],
   "source": [
    "from sklearn.linear_model import LinearRegression\n",
    "from sklearn.linear_model import Ridge \n",
    "from sklearn.linear_model import Lasso\n",
    "from sklearn.linear_model import RidgeCV \n",
    "from sklearn.linear_model import LassoCV\n",
    "from sklearn.linear_model import ElasticNet\n",
    "from sklearn import linear_model\n",
    "from sklearn.model_selection import train_test_split\n",
    "from sklearn.metrics import r2_score,mean_squared_error"
   ]
  },
  {
   "cell_type": "code",
   "execution_count": 10,
   "id": "39fcca9b",
   "metadata": {},
   "outputs": [],
   "source": [
    "df = pd.read_csv(\"SeoulBikeData.csv\")"
   ]
  },
  {
   "cell_type": "code",
   "execution_count": 11,
   "id": "1180f5d9",
   "metadata": {},
   "outputs": [
    {
     "data": {
      "text/html": [
       "<div>\n",
       "<style scoped>\n",
       "    .dataframe tbody tr th:only-of-type {\n",
       "        vertical-align: middle;\n",
       "    }\n",
       "\n",
       "    .dataframe tbody tr th {\n",
       "        vertical-align: top;\n",
       "    }\n",
       "\n",
       "    .dataframe thead th {\n",
       "        text-align: right;\n",
       "    }\n",
       "</style>\n",
       "<table border=\"1\" class=\"dataframe\">\n",
       "  <thead>\n",
       "    <tr style=\"text-align: right;\">\n",
       "      <th></th>\n",
       "      <th>Date</th>\n",
       "      <th>Rented Bike Count</th>\n",
       "      <th>Hour</th>\n",
       "      <th>Temperature(∞C)</th>\n",
       "      <th>Humidity(%)</th>\n",
       "      <th>Wind speed (m/s)</th>\n",
       "      <th>Visibility (10m)</th>\n",
       "      <th>Dew point temperature(∞C)</th>\n",
       "      <th>Solar Radiation (MJ/m2)</th>\n",
       "      <th>Rainfall(mm)</th>\n",
       "      <th>Snowfall (cm)</th>\n",
       "      <th>Seasons</th>\n",
       "      <th>Holiday</th>\n",
       "      <th>Functioning Day</th>\n",
       "    </tr>\n",
       "  </thead>\n",
       "  <tbody>\n",
       "    <tr>\n",
       "      <th>0</th>\n",
       "      <td>1/12/2017</td>\n",
       "      <td>254</td>\n",
       "      <td>0</td>\n",
       "      <td>-5.2</td>\n",
       "      <td>37</td>\n",
       "      <td>2.2</td>\n",
       "      <td>2000</td>\n",
       "      <td>-17.6</td>\n",
       "      <td>0.0</td>\n",
       "      <td>0.0</td>\n",
       "      <td>0.0</td>\n",
       "      <td>Winter</td>\n",
       "      <td>No Holiday</td>\n",
       "      <td>Yes</td>\n",
       "    </tr>\n",
       "    <tr>\n",
       "      <th>1</th>\n",
       "      <td>1/12/2017</td>\n",
       "      <td>204</td>\n",
       "      <td>1</td>\n",
       "      <td>-5.5</td>\n",
       "      <td>38</td>\n",
       "      <td>0.8</td>\n",
       "      <td>2000</td>\n",
       "      <td>-17.6</td>\n",
       "      <td>0.0</td>\n",
       "      <td>0.0</td>\n",
       "      <td>0.0</td>\n",
       "      <td>Winter</td>\n",
       "      <td>No Holiday</td>\n",
       "      <td>Yes</td>\n",
       "    </tr>\n",
       "    <tr>\n",
       "      <th>2</th>\n",
       "      <td>1/12/2017</td>\n",
       "      <td>173</td>\n",
       "      <td>2</td>\n",
       "      <td>-6.0</td>\n",
       "      <td>39</td>\n",
       "      <td>1.0</td>\n",
       "      <td>2000</td>\n",
       "      <td>-17.7</td>\n",
       "      <td>0.0</td>\n",
       "      <td>0.0</td>\n",
       "      <td>0.0</td>\n",
       "      <td>Winter</td>\n",
       "      <td>No Holiday</td>\n",
       "      <td>Yes</td>\n",
       "    </tr>\n",
       "    <tr>\n",
       "      <th>3</th>\n",
       "      <td>1/12/2017</td>\n",
       "      <td>107</td>\n",
       "      <td>3</td>\n",
       "      <td>-6.2</td>\n",
       "      <td>40</td>\n",
       "      <td>0.9</td>\n",
       "      <td>2000</td>\n",
       "      <td>-17.6</td>\n",
       "      <td>0.0</td>\n",
       "      <td>0.0</td>\n",
       "      <td>0.0</td>\n",
       "      <td>Winter</td>\n",
       "      <td>No Holiday</td>\n",
       "      <td>Yes</td>\n",
       "    </tr>\n",
       "    <tr>\n",
       "      <th>4</th>\n",
       "      <td>1/12/2017</td>\n",
       "      <td>78</td>\n",
       "      <td>4</td>\n",
       "      <td>-6.0</td>\n",
       "      <td>36</td>\n",
       "      <td>2.3</td>\n",
       "      <td>2000</td>\n",
       "      <td>-18.6</td>\n",
       "      <td>0.0</td>\n",
       "      <td>0.0</td>\n",
       "      <td>0.0</td>\n",
       "      <td>Winter</td>\n",
       "      <td>No Holiday</td>\n",
       "      <td>Yes</td>\n",
       "    </tr>\n",
       "  </tbody>\n",
       "</table>\n",
       "</div>"
      ],
      "text/plain": [
       "        Date  Rented Bike Count  Hour  Temperature(∞C)  Humidity(%)  \\\n",
       "0  1/12/2017                254     0             -5.2           37   \n",
       "1  1/12/2017                204     1             -5.5           38   \n",
       "2  1/12/2017                173     2             -6.0           39   \n",
       "3  1/12/2017                107     3             -6.2           40   \n",
       "4  1/12/2017                 78     4             -6.0           36   \n",
       "\n",
       "   Wind speed (m/s)  Visibility (10m)  Dew point temperature(∞C)  \\\n",
       "0               2.2              2000                      -17.6   \n",
       "1               0.8              2000                      -17.6   \n",
       "2               1.0              2000                      -17.7   \n",
       "3               0.9              2000                      -17.6   \n",
       "4               2.3              2000                      -18.6   \n",
       "\n",
       "   Solar Radiation (MJ/m2)  Rainfall(mm)  Snowfall (cm) Seasons     Holiday  \\\n",
       "0                      0.0           0.0            0.0  Winter  No Holiday   \n",
       "1                      0.0           0.0            0.0  Winter  No Holiday   \n",
       "2                      0.0           0.0            0.0  Winter  No Holiday   \n",
       "3                      0.0           0.0            0.0  Winter  No Holiday   \n",
       "4                      0.0           0.0            0.0  Winter  No Holiday   \n",
       "\n",
       "  Functioning Day  \n",
       "0             Yes  \n",
       "1             Yes  \n",
       "2             Yes  \n",
       "3             Yes  \n",
       "4             Yes  "
      ]
     },
     "execution_count": 11,
     "metadata": {},
     "output_type": "execute_result"
    }
   ],
   "source": [
    "df.head()"
   ]
  },
  {
   "cell_type": "markdown",
   "id": "eb7a74f5",
   "metadata": {},
   "source": [
    "To verify there are no missing values in the data frame:"
   ]
  },
  {
   "cell_type": "code",
   "execution_count": 12,
   "id": "14b85abe",
   "metadata": {},
   "outputs": [
    {
     "data": {
      "text/plain": [
       "Date                         0\n",
       "Rented Bike Count            0\n",
       "Hour                         0\n",
       "Temperature(∞C)              0\n",
       "Humidity(%)                  0\n",
       "Wind speed (m/s)             0\n",
       "Visibility (10m)             0\n",
       "Dew point temperature(∞C)    0\n",
       "Solar Radiation (MJ/m2)      0\n",
       "Rainfall(mm)                 0\n",
       "Snowfall (cm)                0\n",
       "Seasons                      0\n",
       "Holiday                      0\n",
       "Functioning Day              0\n",
       "dtype: int64"
      ]
     },
     "execution_count": 12,
     "metadata": {},
     "output_type": "execute_result"
    }
   ],
   "source": [
    "df.isna().sum()"
   ]
  },
  {
   "cell_type": "markdown",
   "id": "8f68a64f",
   "metadata": {},
   "source": [
    "To see the correlations between the variables:"
   ]
  },
  {
   "cell_type": "code",
   "execution_count": 13,
   "id": "dbe992a6",
   "metadata": {},
   "outputs": [
    {
     "data": {
      "text/plain": [
       "<AxesSubplot:>"
      ]
     },
     "execution_count": 13,
     "metadata": {},
     "output_type": "execute_result"
    },
    {
     "data": {
      "image/png": "[encoded data removed]",
      "text/plain": [
       "<Figure size 720x720 with 2 Axes>"
      ]
     },
     "metadata": {
      "needs_background": "light"
     },
     "output_type": "display_data"
    }
   ],
   "source": [
    "plt.figure(figsize = (10,10))\n",
    "correlation = df.corr(\"pearson\")\n",
    "sns.heatmap(correlation, vmin = -1, vmax = 1, cmap = 'Blues', annot = True)\n"
   ]
  },
  {
   "cell_type": "markdown",
   "id": "62e6a9df",
   "metadata": {},
   "source": [
    "We see that there is a high corelation between Temperature and Dew Point Temperature, so we are dropping Dew Point Temperature. We also see that there is high correlation between 'Rented Bike Count (y)' and 'Hour', 'Temperature', and 'Solar Radiation'. So we are dropping as they are not as important as the ones mentioned.\n"
   ]
  },
  {
   "cell_type": "code",
   "execution_count": 14,
   "id": "921e13a0-5c8c-4120-b91d-18d63338bd52",
   "metadata": {},
   "outputs": [
    {
     "data": {
      "text/html": [
       "<div>\n",
       "<style scoped>\n",
       "    .dataframe tbody tr th:only-of-type {\n",
       "        vertical-align: middle;\n",
       "    }\n",
       "\n",
       "    .dataframe tbody tr th {\n",
       "        vertical-align: top;\n",
       "    }\n",
       "\n",
       "    .dataframe thead th {\n",
       "        text-align: right;\n",
       "    }\n",
       "</style>\n",
       "<table border=\"1\" class=\"dataframe\">\n",
       "  <thead>\n",
       "    <tr style=\"text-align: right;\">\n",
       "      <th></th>\n",
       "      <th>Date</th>\n",
       "      <th>Seasons</th>\n",
       "      <th>Holiday</th>\n",
       "      <th>Functioning Day</th>\n",
       "    </tr>\n",
       "  </thead>\n",
       "  <tbody>\n",
       "    <tr>\n",
       "      <th>0</th>\n",
       "      <td>1/12/2017</td>\n",
       "      <td>Winter</td>\n",
       "      <td>No Holiday</td>\n",
       "      <td>Yes</td>\n",
       "    </tr>\n",
       "    <tr>\n",
       "      <th>1</th>\n",
       "      <td>1/12/2017</td>\n",
       "      <td>Winter</td>\n",
       "      <td>No Holiday</td>\n",
       "      <td>Yes</td>\n",
       "    </tr>\n",
       "    <tr>\n",
       "      <th>2</th>\n",
       "      <td>1/12/2017</td>\n",
       "      <td>Winter</td>\n",
       "      <td>No Holiday</td>\n",
       "      <td>Yes</td>\n",
       "    </tr>\n",
       "    <tr>\n",
       "      <th>3</th>\n",
       "      <td>1/12/2017</td>\n",
       "      <td>Winter</td>\n",
       "      <td>No Holiday</td>\n",
       "      <td>Yes</td>\n",
       "    </tr>\n",
       "    <tr>\n",
       "      <th>4</th>\n",
       "      <td>1/12/2017</td>\n",
       "      <td>Winter</td>\n",
       "      <td>No Holiday</td>\n",
       "      <td>Yes</td>\n",
       "    </tr>\n",
       "    <tr>\n",
       "      <th>...</th>\n",
       "      <td>...</td>\n",
       "      <td>...</td>\n",
       "      <td>...</td>\n",
       "      <td>...</td>\n",
       "    </tr>\n",
       "    <tr>\n",
       "      <th>8755</th>\n",
       "      <td>30/11/2018</td>\n",
       "      <td>Autumn</td>\n",
       "      <td>No Holiday</td>\n",
       "      <td>Yes</td>\n",
       "    </tr>\n",
       "    <tr>\n",
       "      <th>8756</th>\n",
       "      <td>30/11/2018</td>\n",
       "      <td>Autumn</td>\n",
       "      <td>No Holiday</td>\n",
       "      <td>Yes</td>\n",
       "    </tr>\n",
       "    <tr>\n",
       "      <th>8757</th>\n",
       "      <td>30/11/2018</td>\n",
       "      <td>Autumn</td>\n",
       "      <td>No Holiday</td>\n",
       "      <td>Yes</td>\n",
       "    </tr>\n",
       "    <tr>\n",
       "      <th>8758</th>\n",
       "      <td>30/11/2018</td>\n",
       "      <td>Autumn</td>\n",
       "      <td>No Holiday</td>\n",
       "      <td>Yes</td>\n",
       "    </tr>\n",
       "    <tr>\n",
       "      <th>8759</th>\n",
       "      <td>30/11/2018</td>\n",
       "      <td>Autumn</td>\n",
       "      <td>No Holiday</td>\n",
       "      <td>Yes</td>\n",
       "    </tr>\n",
       "  </tbody>\n",
       "</table>\n",
       "<p>8760 rows × 4 columns</p>\n",
       "</div>"
      ],
      "text/plain": [
       "            Date Seasons     Holiday Functioning Day\n",
       "0      1/12/2017  Winter  No Holiday             Yes\n",
       "1      1/12/2017  Winter  No Holiday             Yes\n",
       "2      1/12/2017  Winter  No Holiday             Yes\n",
       "3      1/12/2017  Winter  No Holiday             Yes\n",
       "4      1/12/2017  Winter  No Holiday             Yes\n",
       "...          ...     ...         ...             ...\n",
       "8755  30/11/2018  Autumn  No Holiday             Yes\n",
       "8756  30/11/2018  Autumn  No Holiday             Yes\n",
       "8757  30/11/2018  Autumn  No Holiday             Yes\n",
       "8758  30/11/2018  Autumn  No Holiday             Yes\n",
       "8759  30/11/2018  Autumn  No Holiday             Yes\n",
       "\n",
       "[8760 rows x 4 columns]"
      ]
     },
     "execution_count": 14,
     "metadata": {},
     "output_type": "execute_result"
    }
   ],
   "source": [
    "#Extracting categorical features\n",
    "\n",
    "categorical_features = df.select_dtypes(include='object')\n",
    "categorical_features"
   ]
  },
  {
   "cell_type": "code",
   "execution_count": 15,
   "id": "621e3383-86c6-4bb6-8c64-384e02b5755a",
   "metadata": {},
   "outputs": [
    {
     "data": {
      "text/plain": [
       "<seaborn.axisgrid.FacetGrid at 0x7f86a9b5e880>"
      ]
     },
     "execution_count": 15,
     "metadata": {},
     "output_type": "execute_result"
    },
    {
     "data": {
      "image/png": "[encoded data removed]",
      "text/plain": [
       "<Figure size 360x360 with 1 Axes>"
      ]
     },
     "metadata": {
      "needs_background": "light"
     },
     "output_type": "display_data"
    }
   ],
   "source": [
    "sns.catplot(x='Seasons',y='Rented Bike Count',data=df)"
   ]
  },
  {
   "cell_type": "markdown",
   "id": "32e736a2-c976-4482-9820-3178f532b14a",
   "metadata": {},
   "source": [
    "The demand of rented bikes during winter season is less"
   ]
  },
  {
   "cell_type": "code",
   "execution_count": 16,
   "id": "183e7ee4-fbf4-42b5-b4d9-4e214a5a3f2c",
   "metadata": {},
   "outputs": [
    {
     "data": {
      "text/html": [
       "<div>\n",
       "<style scoped>\n",
       "    .dataframe tbody tr th:only-of-type {\n",
       "        vertical-align: middle;\n",
       "    }\n",
       "\n",
       "    .dataframe tbody tr th {\n",
       "        vertical-align: top;\n",
       "    }\n",
       "\n",
       "    .dataframe thead th {\n",
       "        text-align: right;\n",
       "    }\n",
       "</style>\n",
       "<table border=\"1\" class=\"dataframe\">\n",
       "  <thead>\n",
       "    <tr style=\"text-align: right;\">\n",
       "      <th></th>\n",
       "      <th>count</th>\n",
       "      <th>mean</th>\n",
       "      <th>std</th>\n",
       "      <th>min</th>\n",
       "      <th>25%</th>\n",
       "      <th>50%</th>\n",
       "      <th>75%</th>\n",
       "      <th>max</th>\n",
       "    </tr>\n",
       "  </thead>\n",
       "  <tbody>\n",
       "    <tr>\n",
       "      <th>Rented Bike Count</th>\n",
       "      <td>8760.0</td>\n",
       "      <td>704.602055</td>\n",
       "      <td>644.997468</td>\n",
       "      <td>0.0</td>\n",
       "      <td>191.00</td>\n",
       "      <td>504.50</td>\n",
       "      <td>1065.25</td>\n",
       "      <td>3556.00</td>\n",
       "    </tr>\n",
       "    <tr>\n",
       "      <th>Hour</th>\n",
       "      <td>8760.0</td>\n",
       "      <td>11.500000</td>\n",
       "      <td>6.922582</td>\n",
       "      <td>0.0</td>\n",
       "      <td>5.75</td>\n",
       "      <td>11.50</td>\n",
       "      <td>17.25</td>\n",
       "      <td>23.00</td>\n",
       "    </tr>\n",
       "    <tr>\n",
       "      <th>Temperature(∞C)</th>\n",
       "      <td>8760.0</td>\n",
       "      <td>12.882922</td>\n",
       "      <td>11.944825</td>\n",
       "      <td>-17.8</td>\n",
       "      <td>3.50</td>\n",
       "      <td>13.70</td>\n",
       "      <td>22.50</td>\n",
       "      <td>39.40</td>\n",
       "    </tr>\n",
       "    <tr>\n",
       "      <th>Humidity(%)</th>\n",
       "      <td>8760.0</td>\n",
       "      <td>58.226256</td>\n",
       "      <td>20.362413</td>\n",
       "      <td>0.0</td>\n",
       "      <td>42.00</td>\n",
       "      <td>57.00</td>\n",
       "      <td>74.00</td>\n",
       "      <td>98.00</td>\n",
       "    </tr>\n",
       "    <tr>\n",
       "      <th>Wind speed (m/s)</th>\n",
       "      <td>8760.0</td>\n",
       "      <td>1.724909</td>\n",
       "      <td>1.036300</td>\n",
       "      <td>0.0</td>\n",
       "      <td>0.90</td>\n",
       "      <td>1.50</td>\n",
       "      <td>2.30</td>\n",
       "      <td>7.40</td>\n",
       "    </tr>\n",
       "    <tr>\n",
       "      <th>Visibility (10m)</th>\n",
       "      <td>8760.0</td>\n",
       "      <td>1436.825799</td>\n",
       "      <td>608.298712</td>\n",
       "      <td>27.0</td>\n",
       "      <td>940.00</td>\n",
       "      <td>1698.00</td>\n",
       "      <td>2000.00</td>\n",
       "      <td>2000.00</td>\n",
       "    </tr>\n",
       "    <tr>\n",
       "      <th>Dew point temperature(∞C)</th>\n",
       "      <td>8760.0</td>\n",
       "      <td>4.073813</td>\n",
       "      <td>13.060369</td>\n",
       "      <td>-30.6</td>\n",
       "      <td>-4.70</td>\n",
       "      <td>5.10</td>\n",
       "      <td>14.80</td>\n",
       "      <td>27.20</td>\n",
       "    </tr>\n",
       "    <tr>\n",
       "      <th>Solar Radiation (MJ/m2)</th>\n",
       "      <td>8760.0</td>\n",
       "      <td>0.569111</td>\n",
       "      <td>0.868746</td>\n",
       "      <td>0.0</td>\n",
       "      <td>0.00</td>\n",
       "      <td>0.01</td>\n",
       "      <td>0.93</td>\n",
       "      <td>3.52</td>\n",
       "    </tr>\n",
       "    <tr>\n",
       "      <th>Rainfall(mm)</th>\n",
       "      <td>8760.0</td>\n",
       "      <td>0.148687</td>\n",
       "      <td>1.128193</td>\n",
       "      <td>0.0</td>\n",
       "      <td>0.00</td>\n",
       "      <td>0.00</td>\n",
       "      <td>0.00</td>\n",
       "      <td>35.00</td>\n",
       "    </tr>\n",
       "    <tr>\n",
       "      <th>Snowfall (cm)</th>\n",
       "      <td>8760.0</td>\n",
       "      <td>0.075068</td>\n",
       "      <td>0.436746</td>\n",
       "      <td>0.0</td>\n",
       "      <td>0.00</td>\n",
       "      <td>0.00</td>\n",
       "      <td>0.00</td>\n",
       "      <td>8.80</td>\n",
       "    </tr>\n",
       "  </tbody>\n",
       "</table>\n",
       "</div>"
      ],
      "text/plain": [
       "                            count         mean         std   min     25%  \\\n",
       "Rented Bike Count          8760.0   704.602055  644.997468   0.0  191.00   \n",
       "Hour                       8760.0    11.500000    6.922582   0.0    5.75   \n",
       "Temperature(∞C)            8760.0    12.882922   11.944825 -17.8    3.50   \n",
       "Humidity(%)                8760.0    58.226256   20.362413   0.0   42.00   \n",
       "Wind speed (m/s)           8760.0     1.724909    1.036300   0.0    0.90   \n",
       "Visibility (10m)           8760.0  1436.825799  608.298712  27.0  940.00   \n",
       "Dew point temperature(∞C)  8760.0     4.073813   13.060369 -30.6   -4.70   \n",
       "Solar Radiation (MJ/m2)    8760.0     0.569111    0.868746   0.0    0.00   \n",
       "Rainfall(mm)               8760.0     0.148687    1.128193   0.0    0.00   \n",
       "Snowfall (cm)              8760.0     0.075068    0.436746   0.0    0.00   \n",
       "\n",
       "                               50%      75%      max  \n",
       "Rented Bike Count           504.50  1065.25  3556.00  \n",
       "Hour                         11.50    17.25    23.00  \n",
       "Temperature(∞C)              13.70    22.50    39.40  \n",
       "Humidity(%)                  57.00    74.00    98.00  \n",
       "Wind speed (m/s)              1.50     2.30     7.40  \n",
       "Visibility (10m)           1698.00  2000.00  2000.00  \n",
       "Dew point temperature(∞C)     5.10    14.80    27.20  \n",
       "Solar Radiation (MJ/m2)       0.01     0.93     3.52  \n",
       "Rainfall(mm)                  0.00     0.00    35.00  \n",
       "Snowfall (cm)                 0.00     0.00     8.80  "
      ]
     },
     "execution_count": 16,
     "metadata": {},
     "output_type": "execute_result"
    }
   ],
   "source": [
    "df.describe().transpose()"
   ]
  },
  {
   "cell_type": "markdown",
   "id": "687b4e02",
   "metadata": {},
   "source": [
    "Multiple Linear Regression"
   ]
  },
  {
   "cell_type": "code",
   "execution_count": 17,
   "id": "8dea9fea",
   "metadata": {},
   "outputs": [],
   "source": [
    "\n",
    "df[\"Holiday\"] = df[\"Holiday\"].astype(\"category\").cat.codes\n",
    "df[\"Functioning Day\"] = df[\"Functioning Day\"].astype(\"category\").cat.codes\n",
    "\n",
    "y = dict()\n",
    "X = dict()\n",
    "seasons = df[\"Seasons\"].unique()\n",
    "for season in seasons:\n",
    "    y[season] = df[df[\"Seasons\"] == season][\"Rented Bike Count\"]\n",
    "    # X[season] = df[df[\"Seasons\"] == season].drop([\"Rented Bike Count\", \"Date\", \"Humidity(%)\", \"Rainfall(mm)\", \"Snowfall (cm)\", \"Seasons\"], axis=1)\n",
    "    X[season] = df[df[\"Seasons\"] == season].drop([\"Rented Bike Count\", \"Date\", \"Seasons\"], axis=1)"
   ]
  },
  {
   "cell_type": "code",
   "execution_count": 18,
   "id": "35c142cc",
   "metadata": {},
   "outputs": [],
   "source": [
    "x_train = dict()\n",
    "x_test = dict()\n",
    "y_train = dict()\n",
    "y_test = dict()\n",
    "\n",
    "for season in seasons:\n",
    "    x_train[season], x_test[season], y_train[season], y_test[season] = train_test_split(X[season], y[season], test_size = 0.25)\n"
   ]
  },
  {
   "cell_type": "code",
   "execution_count": 19,
   "id": "61f99dbb",
   "metadata": {},
   "outputs": [],
   "source": [
    "linregfit = dict()\n",
    "predtrain = dict()\n",
    "predtest = dict()\n",
    "\n",
    "for season in seasons:\n",
    "    linregfit[season] = linear_model.LinearRegression().fit(x_train[season], y_train[season])\n",
    "    predtrain[season] = linregfit[season].predict(x_train[season])\n",
    "    predtest[season] = linregfit[season].predict(x_test[season])"
   ]
  },
  {
   "cell_type": "code",
   "execution_count": 20,
   "id": "8a7aed03",
   "metadata": {},
   "outputs": [
    {
     "name": "stdout",
     "output_type": "stream",
     "text": [
      "For Multiple Linear Regression, R2 train score is : 0.3504490299777029 and the train root mean square is: 120.83717173458075 for Season: Winter\n",
      "For Multiple Linear Regression, R2 test score is : 0.31669536542852395 and the test root mean square is: 125.2720341782251 for Season: Winter\n",
      "For Multiple Linear Regression, R2 train score is : 0.5815938044800764 and the train root mean square is: 396.6624602179636 for Season: Spring\n",
      "For Multiple Linear Regression, R2 test score is : 0.5428901257273901 and the test root mean square is: 435.84312239992255 for Season: Spring\n",
      "For Multiple Linear Regression, R2 train score is : 0.5093235046214908 and the train root mean square is: 490.10928846075893 for Season: Summer\n",
      "For Multiple Linear Regression, R2 test score is : 0.5109830462536333 and the test root mean square is: 459.73011462399126 for Season: Summer\n",
      "For Multiple Linear Regression, R2 train score is : 0.5687834079314467 and the train root mean square is: 428.7755106885461 for Season: Autumn\n",
      "For Multiple Linear Regression, R2 test score is : 0.5588454964224683 and the test root mean square is: 427.44962619989366 for Season: Autumn\n"
     ]
    }
   ],
   "source": [
    "for season in seasons:\n",
    "     linreg_train_r2score = r2_score(y_train[season], predtrain[season])\n",
    "     trainset_rmse = (np.sqrt(mean_squared_error(predtrain[season], y_train[season])))\n",
    "     print('For Multiple Linear Regression, R2 train score is : {} and the train root mean square is: {} for Season: {}'\n",
    "          .format(linreg_train_r2score,trainset_rmse,season))\n",
    "\n",
    "     linreg_test_r2score = r2_score(y_test[season], predtest[season])\n",
    "     testset_rmse = (np.sqrt(mean_squared_error(predtest[season], y_test[season])))\n",
    "     print('For Multiple Linear Regression, R2 test score is : {} and the test root mean square is: {} for Season: {}'\n",
    "          .format(linreg_test_r2score,testset_rmse,season))\n"
   ]
  },
  {
   "cell_type": "markdown",
   "id": "88d491f9",
   "metadata": {},
   "source": [
    "Ridge Regression with alpha = 0.001"
   ]
  },
  {
   "cell_type": "code",
   "execution_count": 21,
   "id": "b42ccc35",
   "metadata": {},
   "outputs": [],
   "source": [
    "alpha = 0.001"
   ]
  },
  {
   "cell_type": "code",
   "execution_count": 22,
   "id": "3f0a34b6",
   "metadata": {},
   "outputs": [
    {
     "name": "stdout",
     "output_type": "stream",
     "text": [
      "For Ridge Regression, R2 train score is : 0.35044902997534666 for Season: Winter\n",
      "For Ridge Regression, R2 test score is : 0.3166953423847564 for Season: Winter\n",
      "For Ridge Regression, R2 train score is : 0.5815938044381974 for Season: Spring\n",
      "For Ridge Regression, R2 test score is : 0.5428909168084046 for Season: Spring\n",
      "For Ridge Regression, R2 train score is : 0.509323504620796 for Season: Summer\n",
      "For Ridge Regression, R2 test score is : 0.5109832366333422 for Season: Summer\n",
      "For Ridge Regression, R2 train score is : 0.5687834079221294 for Season: Autumn\n",
      "For Ridge Regression, R2 test score is : 0.5588452939846474 for Season: Autumn\n"
     ]
    }
   ],
   "source": [
    "linridge = dict()\n",
    "\n",
    "for season in seasons:\n",
    "     linridge[season] = Ridge(alpha = alpha, max_iter=int(10 / alpha), ).fit(x_train[season], y_train[season])\n",
    "     linridge_train_r2score = linridge[season].score(x_train[season], y_train[season])\n",
    "     linridge_test_r2score = linridge[season].score(x_test[season], y_test[season])\n",
    "\n",
    "     print('For Ridge Regression, R2 train score is : {} for Season: {}'.format(linridge_train_r2score, season))\n",
    "     print('For Ridge Regression, R2 test score is : {} for Season: {}'.format(linridge_test_r2score,season))"
   ]
  },
  {
   "cell_type": "code",
   "execution_count": 23,
   "id": "84ec0426",
   "metadata": {},
   "outputs": [
    {
     "name": "stdout",
     "output_type": "stream",
     "text": [
      "For Ridge Regression Cross Validation, R2 train score is : 0.3504490290499861 for Season: Winter\n",
      "For Ridge Regression Cross Validation, R2 test score is : 0.31669647404159207 for Season: Winter\n",
      "For Ridge Regression Cross Validation, R2 train score is : 0.5815937664490596 for Season: Spring\n",
      "For Ridge Regression Cross Validation, R2 test score is : 0.5428970429840245 for Season: Spring\n",
      "For Ridge Regression Cross Validation, R2 train score is : 0.5093234934596644 for Season: Summer\n",
      "For Ridge Regression Cross Validation, R2 test score is : 0.5109876238003268 for Season: Summer\n",
      "For Ridge Regression Cross Validation, R2 train score is : 0.5687833801802318 for Season: Autumn\n",
      "For Ridge Regression Cross Validation, R2 test score is : 0.5588396703628107 for Season: Autumn\n"
     ]
    }
   ],
   "source": [
    "linridgeCV = dict()\n",
    "\n",
    "for season in seasons:\n",
    "     linridgeCV[season] = RidgeCV(alphas = alpha)\n",
    "     linridgeCV[season].fit(x_train[season], y_train[season])\n",
    "     linridgeCV_train_r2score = linridgeCV[season].score(x_train[season], y_train[season])\n",
    "     linridgeCV_test_r2score = linridgeCV[season].score(x_test[season], y_test[season])\n",
    "\n",
    "     print('For Ridge Regression Cross Validation, R2 train score is : {} for Season: {}'.format(linridgeCV_train_r2score,season))\n",
    "     print('For Ridge Regression Cross Validation, R2 test score is : {} for Season: {}'.format(linridgeCV_test_r2score,season))"
   ]
  },
  {
   "cell_type": "markdown",
   "id": "0cdc9457",
   "metadata": {},
   "source": [
    "Lasso Regression with alpha = 1.0"
   ]
  },
  {
   "cell_type": "code",
   "execution_count": 24,
   "id": "94bf5be1",
   "metadata": {},
   "outputs": [
    {
     "name": "stdout",
     "output_type": "stream",
     "text": [
      "For Lasso Regression, R2 train score is : 0.3504490288473734 for Season: Winter\n",
      "For Lasso Regression, R2 test score is : 0.31669630810786176 for Season: Winter\n",
      "For Lasso Regression, R2 train score is : 0.581593804218601 for Season: Spring\n",
      "For Lasso Regression, R2 test score is : 0.54289220629601 for Season: Spring\n",
      "For Lasso Regression, R2 train score is : 0.5093235045024369 for Season: Summer\n",
      "For Lasso Regression, R2 test score is : 0.5109851046587797 for Season: Summer\n",
      "For Lasso Regression, R2 train score is : 0.5687834078159832 for Season: Autumn\n",
      "For Lasso Regression, R2 test score is : 0.5588461894531354 for Season: Autumn\n"
     ]
    }
   ],
   "source": [
    "linlasso = dict()\n",
    "\n",
    "for season in seasons:\n",
    "     linlasso[season] = Lasso(alpha = alpha, max_iter=int(10 / alpha)).fit(x_train[season], y_train[season])\n",
    "     linlasso_train_r2score = linlasso[season].score(x_train[season], y_train[season])\n",
    "     linlasso_test_r2score = linlasso[season].score(x_test[season], y_test[season])\n",
    "\n",
    "     print('For Lasso Regression, R2 train score is : {} for Season: {}'.format(linlasso_train_r2score,season))\n",
    "     print('For Lasso Regression, R2 test score is : {} for Season: {}'.format(linlasso_test_r2score,season))"
   ]
  }
 ],
 "metadata": {
  "kernelspec": {
   "display_name": "Python 3 (ipykernel)",
   "language": "python",
   "name": "python3"
  },
  "language_info": {
   "codemirror_mode": {
    "name": "ipython",
    "version": 3
   },
   "file_extension": ".py",
   "mimetype": "text/x-python",
   "name": "python",
   "nbconvert_exporter": "python",
   "pygments_lexer": "ipython3",
   "version": "3.9.12"
  },
  "vscode": {
   "interpreter": {
    "hash": "a44c148070448069943ca95be06bfff0dbc0ee80b251de0569e71f52c9ac3cd3"
   }
  }
 },
 "nbformat": 4,
 "nbformat_minor": 5
}
